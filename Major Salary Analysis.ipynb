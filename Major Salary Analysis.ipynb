{
 "cells": [
  {
   "metadata": {},
   "cell_type": "markdown",
   "source": "## Upload the Data and Read the .csv File",
   "id": "ad700b11fb0c6564"
  },
  {
   "cell_type": "code",
   "id": "initial_id",
   "metadata": {
    "collapsed": true
   },
   "source": "import pandas as pd",
   "outputs": [],
   "execution_count": null
  },
  {
   "metadata": {},
   "cell_type": "code",
   "source": "df = pd.read_csv('salaries_by_college_major.csv')",
   "id": "1f1b9c045a0c2aa5",
   "outputs": [],
   "execution_count": null
  },
  {
   "metadata": {},
   "cell_type": "code",
   "source": "df.head()",
   "id": "4463c679c24b12cb",
   "outputs": [],
   "execution_count": null
  },
  {
   "metadata": {},
   "cell_type": "code",
   "source": "df.tail()",
   "id": "d3664d30d2d53151",
   "outputs": [],
   "execution_count": null
  },
  {
   "metadata": {},
   "cell_type": "markdown",
   "source": "# Data Exploration and Data Cleaning",
   "id": "5f460443dd195edd"
  },
  {
   "metadata": {},
   "cell_type": "code",
   "source": "df.shape",
   "id": "d42454faa473ae17",
   "outputs": [],
   "execution_count": null
  },
  {
   "metadata": {},
   "cell_type": "code",
   "source": "df.columns",
   "id": "d3ef8984ca85baf5",
   "outputs": [],
   "execution_count": null
  },
  {
   "metadata": {},
   "cell_type": "code",
   "source": "df.isna",
   "id": "65458fe7595f18e9",
   "outputs": [],
   "execution_count": null
  },
  {
   "metadata": {},
   "cell_type": "code",
   "source": [
    "clean_df = df.dropna()\n",
    "clean_df"
   ],
   "id": "20e8522236c82459",
   "outputs": [],
   "execution_count": null
  },
  {
   "metadata": {},
   "cell_type": "code",
   "source": "clean_df['Undergraduate Major']",
   "id": "405b447c2658f43f",
   "outputs": [],
   "execution_count": null
  },
  {
   "metadata": {},
   "cell_type": "code",
   "source": "clean_df[['Undergraduate Major', 'Starting Median Salary']]",
   "id": "36b4d9c6c836225c",
   "outputs": [],
   "execution_count": null
  },
  {
   "metadata": {},
   "cell_type": "markdown",
   "source": "## Accessing Columns and Individual Cells",
   "id": "ca95908a595f9724"
  },
  {
   "metadata": {},
   "cell_type": "code",
   "source": "clean_df[['Undergraduate Major', 'Starting Median Salary']].sort_values(by='Starting Median Salary', ascending=False)[:1]",
   "id": "dc07c30392d991d0",
   "outputs": [],
   "execution_count": null
  },
  {
   "metadata": {},
   "cell_type": "code",
   "source": "clean_df['Starting Median Salary'].max()",
   "id": "b3e2b50640c9abc4",
   "outputs": [],
   "execution_count": null
  },
  {
   "metadata": {},
   "cell_type": "code",
   "source": "clean_df['Undergraduate Major'].loc[clean_df['Starting Median Salary'].idxmax()]",
   "id": "f273b8a37c6381ca",
   "outputs": [],
   "execution_count": null
  },
  {
   "metadata": {},
   "cell_type": "markdown",
   "source": "## Highest and Lowest Earning Degrees",
   "id": "39055d0322b54611"
  },
  {
   "metadata": {},
   "cell_type": "code",
   "source": "clean_df[['Undergraduate Major', 'Mid-Career Median Salary']].sort_values(by='Mid-Career Median Salary', ascending=False)[:1]",
   "id": "c835032d014f997c",
   "outputs": [],
   "execution_count": null
  },
  {
   "metadata": {},
   "cell_type": "code",
   "source": "clean_df[['Undergraduate Major', 'Starting Median Salary']].sort_values(by='Starting Median Salary')[:1]",
   "id": "831b9f861afd86e4",
   "outputs": [],
   "execution_count": null
  },
  {
   "metadata": {},
   "cell_type": "code",
   "source": "clean_df[['Undergraduate Major', 'Mid-Career Median Salary']].sort_values(by='Mid-Career Median Salary')[:1]",
   "id": "ff40ff78364e1843",
   "outputs": [],
   "execution_count": null
  },
  {
   "metadata": {},
   "cell_type": "code",
   "source": "clean_df['Mid-Career 90th Percentile Salary'] - clean_df['Mid-Career 10th Percentile Salary']",
   "id": "7ec71e81ac04ce9a",
   "outputs": [],
   "execution_count": null
  },
  {
   "metadata": {},
   "cell_type": "code",
   "source": "clean_df['Mid-Career 90th Percentile Salary'].subtract(clean_df['Mid-Career 10th Percentile Salary'])",
   "id": "ad0827c4498e851a",
   "outputs": [],
   "execution_count": null
  },
  {
   "metadata": {},
   "cell_type": "markdown",
   "source": "## Sorting Values & Adding Columns: Majors with the Most Potential vs Lowest Risk",
   "id": "383f0cef42bfa4b7"
  },
  {
   "metadata": {},
   "cell_type": "code",
   "source": [
    "spread_col = clean_df['Mid-Career 90th Percentile Salary'] - clean_df['Mid-Career 10th Percentile Salary']\n",
    "clean_df.insert(1, 'Spread', spread_col)\n",
    "clean_df.head()"
   ],
   "id": "7ee1d52d2fac6766",
   "outputs": [],
   "execution_count": null
  },
  {
   "metadata": {},
   "cell_type": "code",
   "source": [
    "low_risk = clean_df[['Undergraduate Major', 'Spread']].sort_values(by='Spread')\n",
    "low_risk.head()"
   ],
   "id": "6429b754fe281b38",
   "outputs": [],
   "execution_count": null
  },
  {
   "metadata": {},
   "cell_type": "code",
   "source": [
    "high_risk = clean_df[['Undergraduate Major', 'Spread']].sort_values(by='Spread', ascending=False)\n",
    "high_risk.head()"
   ],
   "id": "4ea8d65dc4075a18",
   "outputs": [],
   "execution_count": null
  },
  {
   "metadata": {},
   "cell_type": "markdown",
   "source": "## Degrees with the Highest Potential",
   "id": "fe21bbb1fa1123a7"
  },
  {
   "metadata": {},
   "cell_type": "code",
   "source": [
    "highest_potential = clean_df.sort_values('Mid-Career 90th Percentile Salary', ascending=False)\n",
    "highest_potential[['Undergraduate Major', 'Mid-Career 90th Percentile Salary']].head()"
   ],
   "id": "fc44fab2d343467",
   "outputs": [],
   "execution_count": null
  },
  {
   "metadata": {},
   "cell_type": "markdown",
   "source": "## Grouping and Pivoting Data with Pandas",
   "id": "dea9622b360fd430"
  },
  {
   "metadata": {},
   "cell_type": "code",
   "source": [
    "pd.options.display.float_format = '{:,.2f}'.format\n",
    "clean_df.groupby('Group')[clean_df.select_dtypes(include='number').columns].mean()"
   ],
   "id": "2e4ef0abd45869ba",
   "outputs": [],
   "execution_count": null
  },
  {
   "metadata": {},
   "cell_type": "code",
   "source": [
    "# table_from_html = pd.read_html(\"https://www.payscale.com/college-salary-report/majors-that-pay-you-back/bachelors\")\n",
    "# df = table_from_html[0].copy()\n",
    "# df.columns = [\"Rank\", \"Major\", \"Type\", \"EarlyCareerPay\", \"MidCareerPay\", \"HighMeaning\"]\n",
    "#  \n",
    "# # Add tables from other pages to main dataframe\n",
    "# for page_no in range(2, 35):\n",
    "#     table_from_html = pd.read_html(f\"https://www.payscale.com/college-salary-report/majors-that-pay-you-back/bachelors/page/{page_no}\")\n",
    "#     page_df = table_from_html[0].copy()\n",
    "#     page_df.columns = [\"Rank\", \"Major\", \"Type\", \"EarlyCareerPay\", \"MidCareerPay\", \"HighMeaning\"]\n",
    "#     df = df.append(page_df, ignore_index=True)\n",
    "#  \n",
    "# # Select necessary columns only\n",
    "# df = df[[\"Major\", \"EarlyCareerPay\", \"MidCareerPay\"]]\n",
    "#  \n",
    "# # Clean columns\n",
    "# df.replace({\"^Major:\": \"\", \"^Early Career Pay:\\$\": \"\", \"^Mid-Career Pay:\\$\": \"\", \",\": \"\"}, regex=True, inplace=True)\n",
    "#  \n",
    "# # Change datatype of numeric columns\n",
    "# df[[\"EarlyCareerPay\", \"MidCareerPay\"]] = df[[\"EarlyCareerPay\", \"MidCareerPay\"]].apply(pd.to_numeric)"
   ],
   "id": "70e0646043bad02f",
   "outputs": [],
   "execution_count": null
  }
 ],
 "metadata": {
  "kernelspec": {
   "display_name": "Python 3",
   "language": "python",
   "name": "python3"
  },
  "language_info": {
   "codemirror_mode": {
    "name": "ipython",
    "version": 2
   },
   "file_extension": ".py",
   "mimetype": "text/x-python",
   "name": "python",
   "nbconvert_exporter": "python",
   "pygments_lexer": "ipython2",
   "version": "2.7.6"
  }
 },
 "nbformat": 4,
 "nbformat_minor": 5
}
